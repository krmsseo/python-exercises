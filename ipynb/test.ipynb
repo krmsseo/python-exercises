import requests

url = "https://httpbin.org/anything"

res = requests.get(url).json()

print(res)

